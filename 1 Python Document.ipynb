{
 "cells": [
  {
   "cell_type": "markdown",
   "metadata": {
    "id": "_lYdFHgunI4C"
   },
   "source": [
    "# Week 2 - Monday Lesson (variable assignment, loops, lists)"
   ]
  },
  {
   "cell_type": "markdown",
   "metadata": {
    "id": "TlykrWUwnI4F"
   },
   "source": [
    "## Tasks Today:\n",
    "\n",
    "1) Int & Float assignments <br>\n",
    " &nbsp;&nbsp;&nbsp;&nbsp; a) Assigning int <br>\n",
    " &nbsp;&nbsp;&nbsp;&nbsp; b) Assigning float <br>\n",
    " &nbsp;&nbsp;&nbsp;&nbsp; c) Performing Calculations on ints and floats <br>\n",
    " &nbsp;&nbsp;&nbsp;&nbsp;&nbsp;&nbsp;&nbsp;&nbsp; - Addition <br>\n",
    " &nbsp;&nbsp;&nbsp;&nbsp;&nbsp;&nbsp;&nbsp;&nbsp; - Subtraction <br>\n",
    " &nbsp;&nbsp;&nbsp;&nbsp;&nbsp;&nbsp;&nbsp;&nbsp; - Multiplication <br>\n",
    " &nbsp;&nbsp;&nbsp;&nbsp;&nbsp;&nbsp;&nbsp;&nbsp; - Division <br>\n",
    " &nbsp;&nbsp;&nbsp;&nbsp;&nbsp;&nbsp;&nbsp;&nbsp; - Floor Division <br>\n",
    " &nbsp;&nbsp;&nbsp;&nbsp;&nbsp;&nbsp;&nbsp;&nbsp; - Modulo <br>\n",
    " &nbsp;&nbsp;&nbsp;&nbsp;&nbsp;&nbsp;&nbsp;&nbsp; - Exponential <br>\n",
    "2) String Input-Output <br>\n",
    " &nbsp;&nbsp;&nbsp;&nbsp; a) String Assignment <br>\n",
    " &nbsp;&nbsp;&nbsp;&nbsp; b) print() <br>\n",
    " &nbsp;&nbsp;&nbsp;&nbsp; c) String Concatenation <br>\n",
    " &nbsp;&nbsp;&nbsp;&nbsp; d) Type Conversion <br>\n",
    " &nbsp;&nbsp;&nbsp;&nbsp; e) input() <br>\n",
    " &nbsp;&nbsp;&nbsp;&nbsp; f) format() <br>\n",
    " &nbsp;&nbsp;&nbsp;&nbsp; g) Old Way (python 2) <br>\n",
    "3) <b>In-Class Exercise #1</b> <br>\n",
    "4) If Statements <br>\n",
    " &nbsp;&nbsp;&nbsp;&nbsp; a) 'is' keyword <br>\n",
    " &nbsp;&nbsp;&nbsp;&nbsp; b) 'in' keyword <br>\n",
    " &nbsp;&nbsp;&nbsp;&nbsp; c) 'not in' keyword <br>\n",
    "5) <b>In-Class Exercise #2</b> <br>\n",
    "6) Elif Statements <br>\n",
    "7) Else Statements <br>\n",
    "8) <b>In-Class Exercise #3</b> <br>\n",
    "9) For Loops <br>\n",
    " &nbsp;&nbsp;&nbsp;&nbsp; a) Using 'in' keyword <br>\n",
    " &nbsp;&nbsp;&nbsp;&nbsp; b) Continue Statement <br>\n",
    " &nbsp;&nbsp;&nbsp;&nbsp; c) Break Statement <br>\n",
    " &nbsp;&nbsp;&nbsp;&nbsp; d) Pass Statement <br>\n",
    " &nbsp;&nbsp;&nbsp;&nbsp; e) Double For Loops <br>\n",
    "10) While Loops <br>\n",
    " &nbsp;&nbsp;&nbsp;&nbsp; a) Looping 'While True' <br>\n",
    " &nbsp;&nbsp;&nbsp;&nbsp; b) While and For Loops Used Together <br>\n",
    "11) Built-In Functions <br>\n",
    " &nbsp;&nbsp;&nbsp;&nbsp; a) range() <br>\n",
    " &nbsp;&nbsp;&nbsp;&nbsp; b) len() <br>\n",
    " &nbsp;&nbsp;&nbsp;&nbsp; c) help() <br>\n",
    " &nbsp;&nbsp;&nbsp;&nbsp; d) isinstance() <br>\n",
    " &nbsp;&nbsp;&nbsp;&nbsp; e) abs() <br>\n",
    "12) Try and Except <br>\n",
    "13) Lists <br>\n",
    " &nbsp;&nbsp;&nbsp;&nbsp; a) Declaring Lists <br>\n",
    " &nbsp;&nbsp;&nbsp;&nbsp; b) Indexing a List <br>\n",
    " &nbsp;&nbsp;&nbsp;&nbsp; c) .append() <br>\n",
    " &nbsp;&nbsp;&nbsp;&nbsp; d) .insert() <br>\n",
    " &nbsp;&nbsp;&nbsp;&nbsp; e) .pop() <br>\n",
    " &nbsp;&nbsp;&nbsp;&nbsp; f) .remove() <br>\n",
    " &nbsp;&nbsp;&nbsp;&nbsp; g) del() <br>\n",
    " &nbsp;&nbsp;&nbsp;&nbsp; h) Concatenating Two Lists <br>\n",
    " &nbsp;&nbsp;&nbsp;&nbsp; i) Lists Within Lists <br>\n",
    " &nbsp;&nbsp;&nbsp;&nbsp; j) Looping Through Lists <br>"
   ]
  },
  {
   "cell_type": "markdown",
   "metadata": {
    "id": "GA5PihKinI4G"
   },
   "source": [
    "### Int & Float Assignments"
   ]
  },
  {
   "cell_type": "markdown",
   "metadata": {
    "id": "MBzSQCTtnI4H"
   },
   "source": [
    "##### Assigning int"
   ]
  },
  {
   "cell_type": "code",
   "execution_count": 1,
   "metadata": {
    "id": "FyCfMo3InI4H"
   },
   "outputs": [
    {
     "name": "stdout",
     "output_type": "stream",
     "text": [
      "6\n"
     ]
    }
   ],
   "source": [
    "number = 6\n",
    "\n",
    "print(number)"
   ]
  },
  {
   "cell_type": "markdown",
   "metadata": {
    "id": "Dgtlwu50nI4H"
   },
   "source": [
    "##### Assinging float"
   ]
  },
  {
   "cell_type": "code",
   "execution_count": 3,
   "metadata": {
    "id": "vYTVDEiLnI4I"
   },
   "outputs": [
    {
     "name": "stdout",
     "output_type": "stream",
     "text": [
      "2.3\n"
     ]
    }
   ],
   "source": [
    "numberFloat = 2.3\n",
    "print(numberFloat)"
   ]
  },
  {
   "cell_type": "markdown",
   "metadata": {
    "id": "sxotyKienI4I"
   },
   "source": [
    "#### Performing Calculations on ints and floats"
   ]
  },
  {
   "cell_type": "markdown",
   "metadata": {
    "id": "1c23vPBBnI4I"
   },
   "source": [
    "##### Addition"
   ]
  },
  {
   "cell_type": "code",
   "execution_count": 7,
   "metadata": {
    "id": "YVC-9L-WnI4J"
   },
   "outputs": [
    {
     "name": "stdout",
     "output_type": "stream",
     "text": [
      "7.4\n",
      "9.4\n"
     ]
    }
   ],
   "source": [
    "num1 = 2\n",
    "num2 = 5.4\n",
    "\n",
    "result = num1 + num2\n",
    "\n",
    "print(result)\n",
    "\n",
    "result += 2\n",
    "print(result)"
   ]
  },
  {
   "cell_type": "markdown",
   "metadata": {
    "id": "SCIuJb8PnI4J"
   },
   "source": [
    "##### Subtraction"
   ]
  },
  {
   "cell_type": "code",
   "execution_count": 15,
   "metadata": {
    "id": "ECSRAlR_nI4J"
   },
   "outputs": [
    {
     "name": "stdout",
     "output_type": "stream",
     "text": [
      "3.4000000000000004\n"
     ]
    }
   ],
   "source": [
    "result_diff = num2 - num1\n",
    "print(result_diff)"
   ]
  },
  {
   "cell_type": "markdown",
   "metadata": {
    "id": "c1yyzTdhnI4J"
   },
   "source": [
    "##### Multiplication"
   ]
  },
  {
   "cell_type": "code",
   "execution_count": 17,
   "metadata": {
    "id": "ijJnczz_nI4J"
   },
   "outputs": [
    {
     "name": "stdout",
     "output_type": "stream",
     "text": [
      "10.8\n",
      "21.6\n"
     ]
    }
   ],
   "source": [
    "result_mul = num1 * num2\n",
    "print(result_mul)\n",
    "\n",
    "result_mul *= 2\n",
    "print(result_mul)"
   ]
  },
  {
   "cell_type": "markdown",
   "metadata": {
    "id": "THJ8NwqDnI4J"
   },
   "source": [
    "##### Division"
   ]
  },
  {
   "cell_type": "code",
   "execution_count": 30,
   "metadata": {
    "id": "XKEL8XWknI4J"
   },
   "outputs": [
    {
     "name": "stdout",
     "output_type": "stream",
     "text": [
      "2.7\n",
      "0.9\n"
     ]
    }
   ],
   "source": [
    "result_div = num2/num1\n",
    "print(result_div)\n",
    "\n",
    "result_div /= 3\n",
    "print(result_div)"
   ]
  },
  {
   "cell_type": "markdown",
   "metadata": {
    "id": "Tz75gZabnI4J"
   },
   "source": [
    "##### Floor Division"
   ]
  },
  {
   "cell_type": "code",
   "execution_count": 34,
   "metadata": {
    "id": "OpemhUHcnI4J"
   },
   "outputs": [
    {
     "name": "stdout",
     "output_type": "stream",
     "text": [
      "2.0\n",
      "1.0\n"
     ]
    }
   ],
   "source": [
    "result_floor = num2 // num1\n",
    "print(result_floor)\n",
    "\n",
    "result_floor //= 2\n",
    "print(result_floor)"
   ]
  },
  {
   "cell_type": "markdown",
   "metadata": {
    "id": "yEY_cTvunI4K"
   },
   "source": [
    "##### Modulo"
   ]
  },
  {
   "cell_type": "code",
   "execution_count": 38,
   "metadata": {
    "id": "mAaZNsvOnI4K"
   },
   "outputs": [
    {
     "name": "stdout",
     "output_type": "stream",
     "text": [
      "1\n",
      "1\n"
     ]
    }
   ],
   "source": [
    "result_mod = 10 % 3\n",
    "print(result_mod)\n",
    "\n",
    "result_mod %= 2\n",
    "print(result_mod)"
   ]
  },
  {
   "cell_type": "markdown",
   "metadata": {
    "id": "6Y0p5PXtnI4K"
   },
   "source": [
    "##### Exponential"
   ]
  },
  {
   "cell_type": "code",
   "execution_count": 42,
   "metadata": {
    "id": "ivxWicu2nI4K"
   },
   "outputs": [
    {
     "name": "stdout",
     "output_type": "stream",
     "text": [
      "25\n",
      "625\n"
     ]
    }
   ],
   "source": [
    "square = 5 ** 2\n",
    "print(square)\n",
    "\n",
    "square **= 2\n",
    "print(square)"
   ]
  },
  {
   "cell_type": "markdown",
   "metadata": {
    "id": "aUMz5XQknI4K"
   },
   "source": [
    "### String Input-Output"
   ]
  },
  {
   "cell_type": "markdown",
   "metadata": {
    "id": "2BJ5uk0MnI4K"
   },
   "source": [
    "##### String Assignment"
   ]
  },
  {
   "cell_type": "code",
   "execution_count": 48,
   "metadata": {
    "id": "tqQHSjrMnI4K"
   },
   "outputs": [
    {
     "name": "stdout",
     "output_type": "stream",
     "text": [
      "Travis\n"
     ]
    }
   ],
   "source": [
    "name = \"Travis\"\n",
    "print(name)"
   ]
  },
  {
   "cell_type": "markdown",
   "metadata": {
    "id": "CTG5ebeDnI4K"
   },
   "source": [
    "##### print() <br>\n",
    "<p>Don't forget about end=' '</p>"
   ]
  },
  {
   "cell_type": "code",
   "execution_count": 52,
   "metadata": {
    "id": "j9LsUwpWnI4K"
   },
   "outputs": [
    {
     "name": "stdout",
     "output_type": "stream",
     "text": [
      "This is my first name:  Travis\n",
      "Full Name: Travis Deubler"
     ]
    }
   ],
   "source": [
    "print(\"This is my first name: \", name)\n",
    "\n",
    "print(\"Full Name:\", name, end=\" Deubler\")"
   ]
  },
  {
   "cell_type": "markdown",
   "metadata": {
    "id": "8ZBbO2bdnI4K"
   },
   "source": [
    "##### String Concatenation"
   ]
  },
  {
   "cell_type": "code",
   "execution_count": 60,
   "metadata": {
    "id": "lEJTg5ZAnI4K"
   },
   "outputs": [
    {
     "name": "stdout",
     "output_type": "stream",
     "text": [
      "Wonderwall by Oasis\n",
      "Wonderwall by Oasis is tha bomb.\n"
     ]
    }
   ],
   "source": [
    "first_name = \"Wonderwall\"\n",
    "last_name = \"by Oasis\"\n",
    "\n",
    "full_name = first_name + \" \" + last_name\n",
    "print(full_name)\n",
    "\n",
    "full_name += \" is tha bomb.\"\n",
    "print(full_name)"
   ]
  },
  {
   "cell_type": "markdown",
   "metadata": {
    "id": "Cgp68WgfnI4K"
   },
   "source": [
    "##### Type Conversion"
   ]
  },
  {
   "cell_type": "code",
   "execution_count": 62,
   "metadata": {
    "id": "K3n6iLMInI4K"
   },
   "outputs": [
    {
     "name": "stdout",
     "output_type": "stream",
     "text": [
      "32\n",
      "32\n"
     ]
    }
   ],
   "source": [
    "number = \"32\"\n",
    "\n",
    "change_type_num = int(number)\n",
    "print(number)\n",
    "print(change_type_num)\n"
   ]
  },
  {
   "cell_type": "markdown",
   "metadata": {
    "id": "crZkhLp-nI4K"
   },
   "source": [
    "##### input()"
   ]
  },
  {
   "cell_type": "code",
   "execution_count": 68,
   "metadata": {
    "id": "ZxqHUvzinI4K"
   },
   "outputs": [
    {
     "name": "stdout",
     "output_type": "stream",
     "text": [
      "What is your age?:  105\n"
     ]
    },
    {
     "name": "stdout",
     "output_type": "stream",
     "text": [
      "110\n"
     ]
    }
   ],
   "source": [
    "age = int(input(\"What is your age?: \"))\n",
    "add_age = age + 5\n",
    "print(add_age)"
   ]
  },
  {
   "cell_type": "markdown",
   "metadata": {
    "id": "SVFWpJl2nI4K"
   },
   "source": [
    "##### format()"
   ]
  },
  {
   "cell_type": "code",
   "execution_count": 74,
   "metadata": {
    "id": "RhTZefUbnI4L"
   },
   "outputs": [
    {
     "name": "stdout",
     "output_type": "stream",
     "text": [
      "What is your age?  15\n"
     ]
    },
    {
     "name": "stdout",
     "output_type": "stream",
     "text": [
      "You are 15 Travis and you are getting wiser!\n",
      "15 is such a fun age!\n"
     ]
    }
   ],
   "source": [
    "age = input(\"What is your age? \")\n",
    "\n",
    "result_string = \"You are {} {} and you are getting wiser!\".format(age, name)\n",
    "print(result_string)\n",
    "\n",
    "result_again = f\"{age} is such a fun age!\"\n",
    "print(result_again)"
   ]
  },
  {
   "cell_type": "markdown",
   "metadata": {
    "id": "APNurDvGnI4L"
   },
   "source": [
    "##### Old Way (python 2)"
   ]
  },
  {
   "cell_type": "code",
   "execution_count": 78,
   "metadata": {
    "id": "UvNHYF_nnI4L"
   },
   "outputs": [
    {
     "name": "stdout",
     "output_type": "stream",
     "text": [
      "You are 15 and full of energy!\n"
     ]
    }
   ],
   "source": [
    "result_string2 = \"You are %s and full of energy!\" %age\n",
    "print(result_string2)"
   ]
  },
  {
   "cell_type": "markdown",
   "metadata": {
    "id": "xWvUVMPXnI4L"
   },
   "source": [
    "# In-Class Exercise 1 <br>\n",
    "<p>Create a format statement that asks for color, year, make, model and prints out the results</p>"
   ]
  },
  {
   "cell_type": "code",
   "execution_count": 100,
   "metadata": {
    "id": "Xk_1Hqs5nI4L"
   },
   "outputs": [
    {
     "name": "stdout",
     "output_type": "stream",
     "text": [
      "What's your name?  Travis\n",
      "what's the color of your car?  black\n",
      "In what year was your car made?  2013\n",
      "What is the make of your car?  Toyota\n",
      "What's the model of your car?  Tundra\n"
     ]
    },
    {
     "name": "stdout",
     "output_type": "stream",
     "text": [
      "Travis, your 2013 Toyota Tundra's color is black.\n"
     ]
    }
   ],
   "source": [
    "name = input(\"What's your name? \")\n",
    "color = input(\"what's the color of your car? \")\n",
    "year = input(\"In what year was your car made? \")\n",
    "make = input(\"What is the make of your car? \")\n",
    "model = input(\"What's the model of your car? \")\n",
    "results = name + \", your \" + year + \" \" + make + \" \" + model + \"'s color is \" + color + \".\"\n",
    "\n",
    "print(results)"
   ]
  },
  {
   "cell_type": "markdown",
   "metadata": {
    "id": "u8Me0d0OnI4L"
   },
   "source": [
    "### If Statements"
   ]
  },
  {
   "cell_type": "code",
   "execution_count": 114,
   "metadata": {
    "id": "nqOur1kunI4L"
   },
   "outputs": [
    {
     "name": "stdout",
     "output_type": "stream",
     "text": [
      "At least one condition is False\n",
      "True * 2\n",
      "This one is True! Wooo!\n",
      "This is only half True\n",
      "False * 2\n"
     ]
    }
   ],
   "source": [
    "#T && F = F\n",
    "num1 = 10\n",
    "num2 = 5\n",
    "num3 = 20\n",
    "\n",
    "if num1 > num2 and num3 < num2:\n",
    "    print(\"Both are True\")\n",
    "else:\n",
    "    print(\"At least one condition is False\")\n",
    "\n",
    "# T && T = T\n",
    "num4 = 25\n",
    "num5 = 13\n",
    "num6 = 44\n",
    "\n",
    "if num4 > num5 and num6 == 44:\n",
    "    print(\"True * 2\")\n",
    "else:\n",
    "    print(\"At least one condition is false\")\n",
    "\n",
    "# T || F = T\n",
    "num7 = .042\n",
    "num8 = .025\n",
    "num9 = 1.37\n",
    "\n",
    "if num7 > num8 or num9 < num8:\n",
    "    print(\"This one is True! Wooo!\")\n",
    "else:\n",
    "    print(\"Both conditions are False\")\n",
    "\n",
    "# F || T = T\n",
    "num10 = 59\n",
    "num11 = 128\n",
    "num12 = 296\n",
    "\n",
    "if num10 > num11 or num12 > num11:\n",
    "    print(\"This is only half True\")\n",
    "else: \n",
    "    print(\"Both conditions are false\")\n",
    "    \n",
    "# F || F = F\n",
    "num7 = 4.2\n",
    "num8 = 9.03\n",
    "num9 = 5\n",
    "\n",
    "if num7 > num8 or num9 == num8:\n",
    "    print(\"At least one condition is True\")\n",
    "else:\n",
    "    print(\"False * 2\")"
   ]
  },
  {
   "cell_type": "markdown",
   "metadata": {
    "id": "-ER9CRB-nI4M"
   },
   "source": [
    "##### 'is' keyword"
   ]
  },
  {
   "cell_type": "code",
   "execution_count": 149,
   "metadata": {
    "id": "kFI0d_pJnI4M",
    "scrolled": true
   },
   "outputs": [],
   "source": [
    "x = 'The Time is Now!'\n",
    "y = \"The Time is not now!\"\n",
    "\n",
    "if x is y:\n",
    "    print(\"x and y agree!\")"
   ]
  },
  {
   "cell_type": "markdown",
   "metadata": {
    "id": "FmQfAuWknI4M"
   },
   "source": [
    "##### 'in' keyword"
   ]
  },
  {
   "cell_type": "code",
   "execution_count": 383,
   "metadata": {
    "id": "XrNP5sgcnI4M"
   },
   "outputs": [
    {
     "name": "stdout",
     "output_type": "stream",
     "text": [
      "Banana is mentioned in the text.\n"
     ]
    }
   ],
   "source": [
    "fruit = \"I love eating banana in the morning\"\n",
    "\n",
    "if \"banana\" in fruit:\n",
    "    print(\"Banana is mentioned in the text.\")\n",
    "else:\n",
    "    print(\"Banana is not mentioned in the text.\")"
   ]
  },
  {
   "cell_type": "markdown",
   "metadata": {
    "id": "so1coFTcnI4M"
   },
   "source": [
    "##### 'not in' keyword'"
   ]
  },
  {
   "cell_type": "code",
   "execution_count": 124,
   "metadata": {
    "id": "zYUmmngqnI4M"
   },
   "outputs": [
    {
     "name": "stdout",
     "output_type": "stream",
     "text": [
      "The word 'cat' is not in the sentence.\n"
     ]
    }
   ],
   "source": [
    "sentence = \"My dog's name is Playday\"\n",
    "\n",
    "if \"cat\" not in sentence:\n",
    "    print(\"The word 'cat' is not in the sentence.\")\n",
    "else:\n",
    "    print(\"The word 'cat' is in the sentence.\")"
   ]
  },
  {
   "cell_type": "markdown",
   "metadata": {
    "id": "p7XXr4jynI4M"
   },
   "source": [
    "# In-Class Exercise 2 <br>\n",
    "<p>Ask user for input, check to see if the letter 'p' is in the input</p>"
   ]
  },
  {
   "cell_type": "code",
   "execution_count": 179,
   "metadata": {
    "id": "pXBVLTaVnI4N"
   },
   "outputs": [
    {
     "name": "stdout",
     "output_type": "stream",
     "text": [
      "What's your favorite drink?  pina colada\n"
     ]
    },
    {
     "name": "stdout",
     "output_type": "stream",
     "text": [
      "p is in your favorite drink:-)\n"
     ]
    }
   ],
   "source": [
    "yewzer_input = input(\"What's your favorite drink? \")\n",
    "\n",
    "if \"p\" in yewzer_input:\n",
    "    print(\"p is in your favorite drink:-)\")\n",
    "else:\n",
    "    print(\"Nope... no p here.\")"
   ]
  },
  {
   "cell_type": "markdown",
   "metadata": {
    "id": "9ft-wiAdnI4N"
   },
   "source": [
    "## Using 'and'/'or' with If Statements"
   ]
  },
  {
   "cell_type": "code",
   "execution_count": 183,
   "metadata": {
    "id": "Ptv4u09_nI4N"
   },
   "outputs": [
    {
     "name": "stdout",
     "output_type": "stream",
     "text": [
      "True\n",
      "True as well\n"
     ]
    }
   ],
   "source": [
    "number_5 = 25\n",
    "number_6 = 16\n",
    "number_7 = 42\n",
    "number_8 = 4\n",
    "\n",
    "if number_6 / 4 == number_8 and number_5 - 9 == number_6:\n",
    "    print(\"True\")\n",
    "if 7 * 6 == number_7 or number-5 < number_8:\n",
    "    print(\"True as well\")"
   ]
  },
  {
   "cell_type": "markdown",
   "metadata": {
    "id": "IOjOdD9PnI4N"
   },
   "source": [
    "### Elif Statements"
   ]
  },
  {
   "cell_type": "code",
   "execution_count": 197,
   "metadata": {
    "id": "uX3PPFsAnI4N"
   },
   "outputs": [
    {
     "name": "stdout",
     "output_type": "stream",
     "text": [
      "What is the temperature outside today?  75\n"
     ]
    },
    {
     "name": "stdout",
     "output_type": "stream",
     "text": [
      "It's warm today.\n"
     ]
    }
   ],
   "source": [
    "temp = int(input(\"What is the temperature outside today? \"))\n",
    "\n",
    "if temp > 80:\n",
    "    print(\"It's hot day.\")\n",
    "elif temp > 60:\n",
    "    print(\"It's warm today.\")\n",
    "elif temp > 40:\n",
    "    print(\"It's a little chilly today.\")\n",
    "else:\n",
    "    print(\"Brrr it's cold.\")"
   ]
  },
  {
   "cell_type": "markdown",
   "metadata": {
    "id": "duJ_ca_3nI4N"
   },
   "source": [
    "### Else Statements"
   ]
  },
  {
   "cell_type": "code",
   "execution_count": 199,
   "metadata": {
    "id": "v2HXDSJtnI4N"
   },
   "outputs": [
    {
     "name": "stdout",
     "output_type": "stream",
     "text": [
      "What snacks are you having?  chips\n"
     ]
    },
    {
     "name": "stdout",
     "output_type": "stream",
     "text": [
      "It's ok, no one will see.\n"
     ]
    }
   ],
   "source": [
    "snacks = input(\"What snacks are you having? \")\n",
    "\n",
    "if snacks == \"fruit\":\n",
    "    print(\"splendid choice!\")\n",
    "else:\n",
    "    print(\"It's ok, no one will see.\")"
   ]
  },
  {
   "cell_type": "markdown",
   "metadata": {
    "id": "WBt1CKC1nI4N"
   },
   "source": [
    "### For Loops"
   ]
  },
  {
   "cell_type": "code",
   "execution_count": 201,
   "metadata": {
    "id": "UyWaTmZanI4N"
   },
   "outputs": [
    {
     "name": "stdout",
     "output_type": "stream",
     "text": [
      "Letter: h\n",
      "Letter: e\n",
      "Letter: l\n",
      "Letter: l\n",
      "Letter: o\n"
     ]
    }
   ],
   "source": [
    "text = \"hello\"\n",
    "\n",
    "for letter in text:\n",
    "    print(f\"Letter: {letter}\")"
   ]
  },
  {
   "cell_type": "markdown",
   "metadata": {
    "id": "BCG8kVf_nI4N"
   },
   "source": [
    "##### Using 'in' keyword"
   ]
  },
  {
   "cell_type": "code",
   "execution_count": null,
   "metadata": {
    "id": "UIciaVhAnI4N"
   },
   "outputs": [],
   "source": [
    "# see above"
   ]
  },
  {
   "cell_type": "markdown",
   "metadata": {
    "id": "RsIgnevQnI4N"
   },
   "source": [
    "##### Continue Statement"
   ]
  },
  {
   "cell_type": "code",
   "execution_count": null,
   "metadata": {
    "id": "CA8QhW-ynI4N"
   },
   "outputs": [],
   "source": [
    "# will continue to next iteration"
   ]
  },
  {
   "cell_type": "code",
   "execution_count": 203,
   "metadata": {
    "id": "qusMYUcenI4O"
   },
   "outputs": [
    {
     "name": "stdout",
     "output_type": "stream",
     "text": [
      "P\n",
      "y\n",
      "t\n",
      "h\n",
      "n\n",
      " \n",
      "i\n",
      "s\n",
      " \n",
      "t\n",
      "h\n",
      "e\n",
      " \n",
      "b\n",
      "e\n",
      "s\n",
      "t\n",
      "!\n"
     ]
    }
   ],
   "source": [
    "text = \"Python is the best!\"\n",
    "\n",
    "for i in text:\n",
    "    if i == \"o\":\n",
    "        continue\n",
    "    print(i)"
   ]
  },
  {
   "cell_type": "markdown",
   "metadata": {
    "id": "25M1HGkNnI4O"
   },
   "source": [
    "##### Break Statement"
   ]
  },
  {
   "cell_type": "code",
   "execution_count": null,
   "metadata": {
    "id": "sk22CI7ZnI4O"
   },
   "outputs": [],
   "source": [
    "# will break out of current loop"
   ]
  },
  {
   "cell_type": "code",
   "execution_count": 205,
   "metadata": {
    "id": "ncAUBT2znI4O"
   },
   "outputs": [
    {
     "name": "stdout",
     "output_type": "stream",
     "text": [
      "P\n",
      "y\n",
      "t\n",
      "h\n"
     ]
    }
   ],
   "source": [
    "text = \"Python is the best!\"\n",
    "\n",
    "for i in text:\n",
    "    if i == \"o\":\n",
    "        break\n",
    "    print(i)"
   ]
  },
  {
   "cell_type": "markdown",
   "metadata": {
    "id": "RkFnuD17nI4O"
   },
   "source": [
    "##### Pass Statement"
   ]
  },
  {
   "cell_type": "code",
   "execution_count": null,
   "metadata": {
    "id": "bYEgulvqnI4O"
   },
   "outputs": [],
   "source": [
    "# mostly used as a placeholder, and will continue on same iteration"
   ]
  },
  {
   "cell_type": "code",
   "execution_count": 213,
   "metadata": {
    "id": "wg9sjAfCnI4O"
   },
   "outputs": [
    {
     "name": "stdout",
     "output_type": "stream",
     "text": [
      "0\n",
      "1\n",
      "2\n",
      "3\n",
      "4\n",
      "5\n",
      "6\n",
      "7\n",
      "8\n",
      "9\n",
      "10\n",
      "11\n",
      "12\n",
      "13\n",
      "14\n"
     ]
    }
   ],
   "source": [
    "for i in range(15):\n",
    "    if i == 5:\n",
    "        pass\n",
    "    print(i)"
   ]
  },
  {
   "cell_type": "markdown",
   "metadata": {
    "id": "RIFme77rnI4O"
   },
   "source": [
    "##### Double For Loops"
   ]
  },
  {
   "cell_type": "code",
   "execution_count": 215,
   "metadata": {
    "id": "Pg_9wrn7nI4O"
   },
   "outputs": [
    {
     "name": "stdout",
     "output_type": "stream",
     "text": [
      "i =  a pod =  1\n",
      "i =  a pod =  2\n",
      "i =  a pod =  3\n",
      "i =  b pod =  1\n",
      "i =  b pod =  2\n",
      "i =  b pod =  3\n",
      "i =  c pod =  1\n",
      "i =  c pod =  2\n",
      "i =  c pod =  3\n"
     ]
    }
   ],
   "source": [
    "str1 = \"abc\"\n",
    "str2 = \"123\"\n",
    "\n",
    "for i in str1:\n",
    "    for pod in str2:\n",
    "        print('i = ', i, 'pod = ', pod)"
   ]
  },
  {
   "cell_type": "markdown",
   "metadata": {
    "id": "pcW629Z2nI4O"
   },
   "source": [
    "### While Loops"
   ]
  },
  {
   "cell_type": "code",
   "execution_count": 225,
   "metadata": {
    "id": "R9aIwlJvnI4O"
   },
   "outputs": [
    {
     "name": "stdout",
     "output_type": "stream",
     "text": [
      "0\n",
      "1\n",
      "2\n",
      "3\n",
      "4\n",
      "5\n",
      "6\n",
      "7\n",
      "8\n",
      "9\n",
      "10\n",
      "11\n",
      "12\n",
      "13\n",
      "14\n",
      "15\n",
      "16\n",
      "17\n",
      "18\n",
      "19\n",
      "20\n",
      "21\n"
     ]
    }
   ],
   "source": [
    "getting_older = 0\n",
    "\n",
    "while getting_older < 22:\n",
    "    print(getting_older)\n",
    "    getting_older += 1"
   ]
  },
  {
   "cell_type": "markdown",
   "metadata": {
    "id": "A6nQ3VSjnI4O"
   },
   "source": [
    "##### Looping 'While True'"
   ]
  },
  {
   "cell_type": "code",
   "execution_count": 241,
   "metadata": {
    "id": "8cSsiCA5nI4O"
   },
   "outputs": [
    {
     "name": "stdout",
     "output_type": "stream",
     "text": [
      "Run forever\n"
     ]
    },
    {
     "name": "stdout",
     "output_type": "stream",
     "text": [
      "enter any letter (or type 'exit; to quit):  k\n"
     ]
    },
    {
     "name": "stdout",
     "output_type": "stream",
     "text": [
      "Run forever\n"
     ]
    },
    {
     "name": "stdout",
     "output_type": "stream",
     "text": [
      "enter any letter (or type 'exit; to quit):  exit\n"
     ]
    }
   ],
   "source": [
    "run = True\n",
    "\n",
    "while run:\n",
    "    print(\"Run forever\")\n",
    "    user = input(\"enter any letter (or type 'exit; to quit): \")\n",
    "    if user == 'exit':\n",
    "        run = False"
   ]
  },
  {
   "cell_type": "markdown",
   "metadata": {
    "id": "X-75FrMhnI4O"
   },
   "source": [
    "##### While & For Loops Used Together"
   ]
  },
  {
   "cell_type": "code",
   "execution_count": 251,
   "metadata": {
    "id": "84RofRFznI4P"
   },
   "outputs": [
    {
     "name": "stdout",
     "output_type": "stream",
     "text": [
      "\n",
      "Not an infinite while loop: 1\n",
      "For loop:  0\n",
      "For loop:  1\n",
      "For loop:  2\n",
      "\n",
      "Not an infinite while loop: 2\n",
      "For loop:  0\n",
      "For loop:  1\n",
      "For loop:  2\n",
      "\n",
      "Not an infinite while loop: 3\n",
      "For loop:  0\n",
      "For loop:  1\n",
      "For loop:  2\n",
      "\n",
      "Not an infinite while loop: 4\n",
      "For loop:  0\n",
      "For loop:  1\n",
      "For loop:  2\n",
      "\n",
      "Not an infinite while loop: 5\n",
      "For loop:  0\n",
      "For loop:  1\n",
      "For loop:  2\n"
     ]
    }
   ],
   "source": [
    "num = 1\n",
    "\n",
    "while num <= 5:\n",
    "    print(\"\\nNot an infinite while loop: \" + str(num))\n",
    "\n",
    "    for i in range(3):\n",
    "        print(\"For loop: \", str(i))\n",
    "\n",
    "    num += 1"
   ]
  },
  {
   "cell_type": "markdown",
   "metadata": {
    "id": "7eHsWHZdnI4P"
   },
   "source": [
    "### Built-In Functions"
   ]
  },
  {
   "cell_type": "markdown",
   "metadata": {
    "id": "ngV5HF_bnI4P"
   },
   "source": [
    "##### range()"
   ]
  },
  {
   "cell_type": "code",
   "execution_count": 277,
   "metadata": {
    "id": "T-bVwoonnI4P"
   },
   "outputs": [
    {
     "name": "stdout",
     "output_type": "stream",
     "text": [
      "5\n",
      "10\n",
      "15\n",
      "20\n",
      "25\n",
      "30\n",
      "35\n",
      "40\n",
      "45\n",
      "50\n",
      "55\n",
      "60\n",
      "65\n",
      "70\n",
      "75\n",
      "80\n",
      "85\n",
      "90\n",
      "95\n",
      "100\n",
      "105\n",
      "110\n",
      "115\n",
      "120\n",
      "125\n",
      "130\n",
      "135\n",
      "140\n",
      "145\n",
      "150\n",
      "155\n",
      "160\n",
      "165\n",
      "170\n",
      "175\n",
      "180\n",
      "185\n",
      "190\n",
      "195\n",
      "200\n"
     ]
    }
   ],
   "source": [
    "for i in range(5, 201, 5):  # Start at 5, go up to 300, increment by 5\n",
    "    print(i)"
   ]
  },
  {
   "cell_type": "markdown",
   "metadata": {
    "id": "LzaEAdI2nI4P"
   },
   "source": [
    "##### len()"
   ]
  },
  {
   "cell_type": "code",
   "execution_count": 283,
   "metadata": {
    "id": "ehR51LpUnI4P"
   },
   "outputs": [
    {
     "name": "stdout",
     "output_type": "stream",
     "text": [
      "The length of the string is: 10\n"
     ]
    }
   ],
   "source": [
    "my_string = \"What's up!\"\n",
    "\n",
    "length_of_string = len(my_string)\n",
    "print(\"The length of the string is: \" + str(length_of_string))"
   ]
  },
  {
   "cell_type": "markdown",
   "metadata": {
    "id": "S0k4MlkBnI4P"
   },
   "source": [
    "##### help()"
   ]
  },
  {
   "cell_type": "code",
   "execution_count": 285,
   "metadata": {
    "id": "mkn7sTxunI4P"
   },
   "outputs": [
    {
     "name": "stdout",
     "output_type": "stream",
     "text": [
      "Help on built-in function isinstance in module builtins:\n",
      "\n",
      "isinstance(obj, class_or_tuple, /)\n",
      "    Return whether an object is an instance of a class or of a subclass thereof.\n",
      "    \n",
      "    A tuple, as in ``isinstance(x, (A, B, ...))``, may be given as the target to\n",
      "    check against. This is equivalent to ``isinstance(x, A) or isinstance(x, B)\n",
      "    or ...`` etc.\n",
      "\n"
     ]
    }
   ],
   "source": [
    "help(isinstance)"
   ]
  },
  {
   "cell_type": "markdown",
   "metadata": {
    "id": "2VLs3yrXnI4P"
   },
   "source": [
    "##### isinstance()"
   ]
  },
  {
   "cell_type": "code",
   "execution_count": 287,
   "metadata": {
    "id": "S1GtITDonI4P"
   },
   "outputs": [
    {
     "name": "stdout",
     "output_type": "stream",
     "text": [
      "x is an integer.\n"
     ]
    }
   ],
   "source": [
    "x = 10\n",
    "\n",
    "if isinstance(x, int):\n",
    "    print(f\"x is an integer.\")\n",
    "else:\n",
    "    print(f\"x isn't an integer.\")"
   ]
  },
  {
   "cell_type": "markdown",
   "metadata": {
    "id": "W6Ril1wMnI4P"
   },
   "source": [
    "##### abs()"
   ]
  },
  {
   "cell_type": "code",
   "execution_count": 289,
   "metadata": {
    "id": "juaNNBY-nI4P"
   },
   "outputs": [
    {
     "name": "stdout",
     "output_type": "stream",
     "text": [
      "The absolute value of -10 is 10.\n"
     ]
    }
   ],
   "source": [
    "negative_numero = -10\n",
    "\n",
    "result = abs(negative_numero)\n",
    "print(f\"The absolute value of {negative_numero} is {result}.\")"
   ]
  },
  {
   "cell_type": "markdown",
   "metadata": {
    "id": "EipW_6lHnI4P"
   },
   "source": [
    "### Try and Except"
   ]
  },
  {
   "cell_type": "code",
   "execution_count": 293,
   "metadata": {
    "id": "QOLkX7X2nI4Q"
   },
   "outputs": [
    {
     "name": "stdout",
     "output_type": "stream",
     "text": [
      "Enter an integer:  7\n"
     ]
    },
    {
     "name": "stdout",
     "output_type": "stream",
     "text": [
      "You entered: 7\n"
     ]
    }
   ],
   "source": [
    "try:\n",
    "    number = int(input(\"Enter an integer: \"))\n",
    "    print(f\"You entered: {number}\")\n",
    "except:\n",
    "    print(\"Oh no! you didn't enter an integer!.\")"
   ]
  },
  {
   "cell_type": "markdown",
   "metadata": {
    "id": "CmNnGdTpnI4Q"
   },
   "source": [
    "### Lists"
   ]
  },
  {
   "cell_type": "markdown",
   "metadata": {
    "id": "_ejVfgINnI4Q"
   },
   "source": [
    "##### Declaring Lists"
   ]
  },
  {
   "cell_type": "code",
   "execution_count": 297,
   "metadata": {
    "id": "6ZlcCxF1nI4Q"
   },
   "outputs": [
    {
     "name": "stdout",
     "output_type": "stream",
     "text": [
      "['Toyota', 'Honda', 'Audi', 'Mercedes', 'Chevy']\n"
     ]
    }
   ],
   "source": [
    "my_empty_list = []\n",
    "\n",
    "cars = ['Toyota', 'Honda', 'Audi', 'Mercedes', 'Chevy']\n",
    "print(cars)"
   ]
  },
  {
   "cell_type": "markdown",
   "metadata": {
    "id": "4idYp3sdnI4Q"
   },
   "source": [
    "##### Indexing a List"
   ]
  },
  {
   "cell_type": "code",
   "execution_count": 303,
   "metadata": {
    "id": "QTCVh6zenI4Q"
   },
   "outputs": [
    {
     "name": "stdout",
     "output_type": "stream",
     "text": [
      "Honda\n",
      "['Honda', 'Audi', 'Mercedes', 'Chevy']\n",
      "['Toyota', 'Honda']\n",
      "['Honda', 'Mercedes']\n",
      "['Chevy', 'Mercedes', 'Audi', 'Honda', 'Toyota']\n"
     ]
    }
   ],
   "source": [
    "print(cars[1])\n",
    "\n",
    "print(cars[1:])\n",
    "\n",
    "print(cars[:2])\n",
    "\n",
    "print(cars[1::2])\n",
    "\n",
    "print(cars[::-1])"
   ]
  },
  {
   "cell_type": "markdown",
   "metadata": {
    "id": "IuMYw0nvnI4Q"
   },
   "source": [
    "##### .append()"
   ]
  },
  {
   "cell_type": "code",
   "execution_count": 305,
   "metadata": {
    "id": "sTrDICCRnI4Q"
   },
   "outputs": [
    {
     "name": "stdout",
     "output_type": "stream",
     "text": [
      "['Toyota', 'Honda', 'Audi', 'Mercedes', 'Chevy', 'Ford']\n"
     ]
    }
   ],
   "source": [
    "cars.append('Ford')\n",
    "print(cars)"
   ]
  },
  {
   "cell_type": "markdown",
   "metadata": {
    "id": "UzKP2wxXnI4Q"
   },
   "source": [
    "##### .insert()"
   ]
  },
  {
   "cell_type": "code",
   "execution_count": 311,
   "metadata": {
    "id": "-yXMRKnAnI4Q"
   },
   "outputs": [
    {
     "name": "stdout",
     "output_type": "stream",
     "text": [
      "['Toyota', 'Honda', 'Tesla', 'Audi', 'Chevy', 'Ford']\n"
     ]
    }
   ],
   "source": [
    "cars.insert(2,'Tesla')\n",
    "print(cars)"
   ]
  },
  {
   "cell_type": "markdown",
   "metadata": {
    "id": "xjukNbcNnI4Q"
   },
   "source": [
    "##### .pop()"
   ]
  },
  {
   "cell_type": "code",
   "execution_count": 313,
   "metadata": {
    "id": "nw-RysdInI4Q"
   },
   "outputs": [
    {
     "name": "stdout",
     "output_type": "stream",
     "text": [
      "Audi\n",
      "['Toyota', 'Honda', 'Tesla', 'Chevy', 'Ford']\n"
     ]
    }
   ],
   "source": [
    "car_makers = cars.pop(3)\n",
    "print(car_makers)\n",
    "print(cars)"
   ]
  },
  {
   "cell_type": "markdown",
   "metadata": {
    "id": "o5trD09bnI4Q"
   },
   "source": [
    "\n",
    "##### .remove()"
   ]
  },
  {
   "cell_type": "code",
   "execution_count": 323,
   "metadata": {
    "id": "X_TBFnAlnI4Q"
   },
   "outputs": [
    {
     "ename": "ValueError",
     "evalue": "list.remove(x): x not in list",
     "output_type": "error",
     "traceback": [
      "\u001b[1;31m---------------------------------------------------------------------------\u001b[0m",
      "\u001b[1;31mValueError\u001b[0m                                Traceback (most recent call last)",
      "Cell \u001b[1;32mIn[323], line 1\u001b[0m\n\u001b[1;32m----> 1\u001b[0m cars\u001b[38;5;241m.\u001b[39mremove(\u001b[38;5;124m'\u001b[39m\u001b[38;5;124mFord\u001b[39m\u001b[38;5;124m'\u001b[39m)\n\u001b[0;32m      2\u001b[0m \u001b[38;5;28mprint\u001b[39m(cars)\n",
      "\u001b[1;31mValueError\u001b[0m: list.remove(x): x not in list"
     ]
    }
   ],
   "source": [
    "cars.remove('Ford')\n",
    "print(cars)"
   ]
  },
  {
   "cell_type": "markdown",
   "metadata": {
    "id": "BAl82L-FnI4Q"
   },
   "source": [
    "##### del()"
   ]
  },
  {
   "cell_type": "code",
   "execution_count": 325,
   "metadata": {
    "id": "cuhjHzs9nI4Q"
   },
   "outputs": [
    {
     "name": "stdout",
     "output_type": "stream",
     "text": [
      "['Toyota', 'Tesla', 'Chevy']\n"
     ]
    }
   ],
   "source": [
    "del(cars[1])\n",
    "print(cars)"
   ]
  },
  {
   "cell_type": "markdown",
   "metadata": {
    "id": "uAJ3qgwHnI4Q"
   },
   "source": [
    "##### Concatenating Two Lists"
   ]
  },
  {
   "cell_type": "code",
   "execution_count": 333,
   "metadata": {
    "id": "5r7IIcyqnI4R"
   },
   "outputs": [
    {
     "name": "stdout",
     "output_type": "stream",
     "text": [
      "[1, 2, 3, 4, 5, 6]\n"
     ]
    }
   ],
   "source": [
    "list1 = [1, 2, 3]\n",
    "list2 = [4, 5, 6]\n",
    "\n",
    "combined_list = list1 + list2\n",
    "print(combined_list)"
   ]
  },
  {
   "cell_type": "markdown",
   "metadata": {
    "id": "CpyN55wwnI4R"
   },
   "source": [
    "##### Lists Within Lists"
   ]
  },
  {
   "cell_type": "code",
   "execution_count": 1,
   "metadata": {
    "id": "2TyqdVixnI4R"
   },
   "outputs": [
    {
     "name": "stdout",
     "output_type": "stream",
     "text": [
      "The first list is: ['apple pie', 'banana split', 'cherry slush']\n",
      "The second item in the second list is: cat in the hat\n",
      "The third item in the third list is: 3\n"
     ]
    }
   ],
   "source": [
    "lists_inside_lists = [\n",
    "    [\"apple pie\", \"banana split\", \"cherry slush\"],\n",
    "    [\"dog eat dog\", \"cat in the hat\", \"rabbit run\"],\n",
    "    [1, 2, 3]\n",
    "]\n",
    "\n",
    "first_list = lists_inside_lists[0]\n",
    "print(f\"The first list is: {first_list}\")\n",
    "\n",
    "second_list_second_item = lists_inside_lists[1][1]\n",
    "print(f\"The second item in the second list is: {second_list_second_item}\")\n",
    "\n",
    "third_list_third_item = lists_inside_lists[2][2]\n",
    "print(f\"The third item in the third list is: {third_list_third_item}\")"
   ]
  },
  {
   "cell_type": "markdown",
   "metadata": {
    "id": "s_3T3_R3nI4R"
   },
   "source": [
    "##### Looping Through Lists"
   ]
  },
  {
   "cell_type": "code",
   "execution_count": 353,
   "metadata": {
    "id": "STwYKXXMnI4R"
   },
   "outputs": [
    {
     "name": "stdout",
     "output_type": "stream",
     "text": [
      "['apple pie', 'banana split', 'cherry slush']\n",
      "['dog eat dog', 'cat in the hat', 'rabbit run']\n",
      "[1, 2, 3]\n",
      "['apple pie', 'banana split', 'cherry slush']\n",
      "['dog eat dog', 'cat in the hat', 'rabbit run']\n",
      "[1, 2, 3]\n"
     ]
    }
   ],
   "source": [
    "for i in range(len(lists_inside_lists)):\n",
    "    print(lists_inside_lists[i])\n",
    "\n",
    "for i in lists_inside_lists:\n",
    "    print(i)"
   ]
  },
  {
   "cell_type": "markdown",
   "metadata": {
    "id": "xksd5MUjnI4R"
   },
   "source": [
    "## Exercise #1 <br>\n",
    "<p>Cube Number Test... Print out all cubed numbers up to the total value 1000. Meaning that if the cubed number is over 1000 break the loop.</p>"
   ]
  },
  {
   "cell_type": "code",
   "execution_count": 361,
   "metadata": {
    "id": "xSb1avJynI4R"
   },
   "outputs": [
    {
     "name": "stdout",
     "output_type": "stream",
     "text": [
      "0\n",
      "1\n",
      "8\n",
      "27\n",
      "64\n",
      "125\n",
      "216\n",
      "343\n",
      "512\n",
      "729\n",
      "1000\n"
     ]
    }
   ],
   "source": [
    "for i in range(1000):\n",
    "    cubed = i ** 3\n",
    "    if cubed > 1000:\n",
    "        break\n",
    "    print(cubed)"
   ]
  },
  {
   "cell_type": "markdown",
   "metadata": {
    "id": "mJmgrGmqnI4R"
   },
   "source": [
    "## Exercise #2 <br>\n",
    "<p>Get first prime numbers up to 100</p>"
   ]
  },
  {
   "cell_type": "code",
   "execution_count": 379,
   "metadata": {
    "id": "8nEjd9LQnI4R"
   },
   "outputs": [
    {
     "name": "stdout",
     "output_type": "stream",
     "text": [
      "2\n",
      "3\n",
      "5\n",
      "7\n",
      "11\n",
      "13\n",
      "17\n",
      "19\n",
      "23\n",
      "29\n",
      "31\n",
      "37\n",
      "41\n",
      "43\n",
      "47\n",
      "53\n",
      "59\n",
      "61\n",
      "67\n",
      "71\n",
      "73\n",
      "79\n",
      "83\n",
      "89\n",
      "97\n"
     ]
    }
   ],
   "source": [
    "for num in range(2, 101):\n",
    "    is_prime = True\n",
    "    for i in range(2, int(num ** 0.5) + 1):\n",
    "        if num % i == 0:\n",
    "            is_prime = False\n",
    "            break\n",
    "    else:\n",
    "        if is_prime:\n",
    "            print(num)\n"
   ]
  },
  {
   "cell_type": "markdown",
   "metadata": {
    "id": "PwH96tqFnI4R"
   },
   "source": [
    "# Exercise 3 <br>\n",
    "<p>Take in a users input for their age, if they are younger than 18 print kids, if they're 18 to 65 print adults, else print seniors</p>"
   ]
  },
  {
   "cell_type": "code",
   "execution_count": 373,
   "metadata": {
    "id": "9sar7hadnI4R"
   },
   "outputs": [
    {
     "name": "stdout",
     "output_type": "stream",
     "text": [
      "How old are you?  92\n"
     ]
    },
    {
     "name": "stdout",
     "output_type": "stream",
     "text": [
      "Seniors\n"
     ]
    }
   ],
   "source": [
    "user_age = int(input(\"How old are you? \"))\n",
    "\n",
    "if user_age < 18:\n",
    "    print(\"Kids\")\n",
    "if user_age < 66: \n",
    "    print(\"Adults\")\n",
    "else:\n",
    "    print(\"Seniors\")"
   ]
  }
 ],
 "metadata": {
  "colab": {
   "provenance": []
  },
  "kernelspec": {
   "display_name": "Python 3 (ipykernel)",
   "language": "python",
   "name": "python3"
  },
  "language_info": {
   "codemirror_mode": {
    "name": "ipython",
    "version": 3
   },
   "file_extension": ".py",
   "mimetype": "text/x-python",
   "name": "python",
   "nbconvert_exporter": "python",
   "pygments_lexer": "ipython3",
   "version": "3.11.7"
  }
 },
 "nbformat": 4,
 "nbformat_minor": 4
}
